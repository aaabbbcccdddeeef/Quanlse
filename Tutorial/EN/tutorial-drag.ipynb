{
 "cells": [
  {
   "cell_type": "markdown",
   "metadata": {},
   "source": [
    "# Derivative Reduction by Adiabatic Gate\n",
    "*Copyright (c) 2021 Institute for Quantum Computing, Baidu Inc. All Rights Reserved.*"
   ]
  },
  {
   "cell_type": "markdown",
   "metadata": {},
   "source": [
    "## Outline\n",
    "This tutorial will demonstrate how to calibrate an X gate using the DRAG (Derivative Reduction by Adiabatic Gate) technique using Quanlse. The outline of this tutorial is as follows:\n",
    "- Introduction\n",
    "- Preparation\n",
    "- Define the waveform for DRAG\n",
    "- Quanlse realization\n",
    "- Summary"
   ]
  },
  {
   "cell_type": "markdown",
   "metadata": {},
   "source": [
    "## Introduction\n",
    "\n",
    "In superconducting circuits, one has to consider the leakage error due to the fact that superconducting circuits are not perfect two-level systems. For weakly anharmonic qubits, leakage into the third energy level takes the qubit out of the computational subspace. To overcome this issue, researchers proposed the DRAG procedure \\[1\\], which removes most of the leakage error by modifying the waveforms of the drive pulses."
   ]
  },
  {
   "cell_type": "markdown",
   "metadata": {},
   "source": [
    "## Preparation\n",
    "After you have successfully installed Quanlse, you could run the Quanlse program below following this tutorial. To run this particular tutorial, you would need to import the following packages from Quanlse and other commonly-used Python libraries:"
   ]
  },
  {
   "cell_type": "code",
   "execution_count": null,
   "metadata": {},
   "outputs": [],
   "source": [
    "# Import the Hamiltonian module\n",
    "from Quanlse.QHamiltonian import QHamiltonian as QHam\n",
    "\n",
    "# Import the function for calculating infidelity\n",
    "from Quanlse.Utils.Infidelity import unitaryInfidelity\n",
    "\n",
    "# Import related operators\n",
    "from Quanlse.QOperator import driveX, driveY, driveZ, number, duff\n",
    "\n",
    "# Import waveforms and functions used to process the waveforms' data\n",
    "from Quanlse.QWaveform import gaussian, dragY1, QJob, QJobList, QWaveform\n",
    "\n",
    "# Import simulator interface for Quanlse Cloud Service\n",
    "from Quanlse.remoteSimulator import remoteSimulatorRunHamiltonian as runHamiltonian\n",
    "\n",
    "# Import matplotlib for graphing purposes\n",
    "import matplotlib.pyplot as plt\n",
    "\n",
    "# Import numpy and scipy\n",
    "import numpy as np\n",
    "import math\n",
    "from scipy import integrate"
   ]
  },
  {
   "cell_type": "markdown",
   "metadata": {},
   "source": [
    "To use Quanlse Cloud Service, we need to acquire a token to get access to the cloud. "
   ]
  },
  {
   "cell_type": "code",
   "execution_count": null,
   "metadata": {},
   "outputs": [],
   "source": [
    "# Import Define class and set the token for cloud service\n",
    "# Please visit http://quantum-hub.baidu.com\n",
    "from Quanlse import Define\n",
    "Define.hubToken = \"\""
   ]
  },
  {
   "cell_type": "markdown",
   "metadata": {},
   "source": [
    "## Define the waveform for DRAG"
   ]
  },
  {
   "cell_type": "markdown",
   "metadata": {},
   "source": [
    "By performing a rotating wave approximation (RWA), the Hamiltonian in the rotating frame can be written as \\[2\\]: \n",
    "\n",
    "$$ \n",
    "\\hat H_R / \\hbar = \\delta_1 |1\\rangle \\langle 1|+\\delta_2 |2\\rangle \\langle 2|+\\frac{\\alpha_q}{2}\\hat a^{\\dagger}\\hat a^{\\dagger}\\hat a \\hat a+\\frac{\\varepsilon_x(t)}{2}\n",
    "\\left[ \\hat{a}^\\dagger + \\hat{a} \\right]+\\frac{\\varepsilon_y(t)}{2}\n",
    "i \\left[\\hat{a}^\\dagger - \\hat{a}\\right]\n",
    ",\n",
    "$$\n",
    "\n",
    "where $\\omega_1$ and $\\omega_2$ are the qubits' frequencies; and $\\omega_d$ is the driving frequency. $\\alpha_q = \\omega_2 -2\\omega_1$ is the anharmonicity of the system. $\\delta_1 = \\omega_1-\\omega_d$ and $\\delta_2 = \\omega_2-\\omega_d$ are the detunings of the transitions with respect to the drive frequency. $\\varepsilon_x(t)$ and $\\varepsilon_y(t)$ are the pulses' amplitudes of the two independent quadrature controls (XY control)."
   ]
  },
  {
   "cell_type": "markdown",
   "metadata": {},
   "source": [
    "In the ideal case, we can ignore the higher energy levels of the qubit. To implement a $\\theta$ rotation about the x-axis, we set $\\delta _1$ to be zero and solve the equation directly:\n",
    "$$\n",
    "\\int_0^{t_g}\\varepsilon_x(t)dt=\\theta. \n",
    "$$"
   ]
  },
  {
   "cell_type": "markdown",
   "metadata": {},
   "source": [
    "As for a Gaussian waveform $\\varepsilon_G=Ae^{(t-\\tau)^2 / 2\\sigma^2}-B$, we solve $\\int_0^{t_g}\\varepsilon_G(t)dt=\\theta$ to determine the amplitude $A$ corresponding to the $\\theta$ rotation about the x-axis:\n",
    "$$\n",
    "A=\\theta/\\left( \\int_0^{t_g}e^{-(t-\\tau)^2/2\\sigma^2}dt-t_ge^{-\\tau^2/2\\sigma^2} \\right),\n",
    "$$\n",
    "\n",
    "$$\n",
    "B=Ae^{-\\tau^2/2\\sigma^2}.\n",
    "$$\n",
    "In the equations above, $A$ ensures that the desired magnitude of rotation is implemented; while $B$ enforces that the pulse's amplitude start and end on zero. \n",
    "\n",
    "In the following code, we first define a couple of parameters to set the rotation angle and the anharmonicity term of the system. Then, we define the functions for calculating parameters of the Gaussian waveform (commonly used [waveform functions](https://quanlse.baidu.com/api/Quanlse/Quanlse.QWaveform.html) are available in Quanlse)."
   ]
  },
  {
   "cell_type": "code",
   "execution_count": null,
   "metadata": {},
   "outputs": [],
   "source": [
    "theta_x = np.pi # The angle of rotation\n",
    "Delta = -0.4 * 2 * np.pi # The anharmonicity in GHz\n",
    "\n",
    "# Calculate the parameters\n",
    "def intTheta(tg):\n",
    "    y = integrate.quad(gaussian(tg, 1, tg / 2, tg / 4), 0, tg)\n",
    "    return y[0]\n",
    "\n",
    "def calAx(tg):\n",
    "    return theta_x / (intTheta(tg) - gaussian(tg, 1, tg / 2, tg / 4)(0) * tg)\n",
    "\n",
    "def calBx(tg):\n",
    "    return calAx(tg) * gaussian(tg, 1, tg / 2, tg / 4)(0)"
   ]
  },
  {
   "cell_type": "markdown",
   "metadata": {},
   "source": [
    "In the DRAG procedure, the waveforms and detunings are modified to:\n",
    "$$\n",
    "\\varepsilon_y(t) = -\\frac{\\dot {\\varepsilon_x}(t)}{\\alpha_q}, \n",
    "$$\n",
    "$$\n",
    "\\delta_1(t) = -\\frac{\\varepsilon_x^2(t)}{2\\alpha_q}.\n",
    "$$"
   ]
  },
  {
   "cell_type": "markdown",
   "metadata": {},
   "source": [
    "Here, we build the control pulses $\\varepsilon_x(t)$ and $\\varepsilon_y(t)$ and set the drive detuning $\\delta_1$ according to the equations above."
   ]
  },
  {
   "cell_type": "code",
   "execution_count": null,
   "metadata": {},
   "outputs": [],
   "source": [
    "# Define the control waveforms\n",
    "def epsilonX(t, params):\n",
    "    tg = params['tg']\n",
    "    a = calAx(tg)\n",
    "    b = calBx(tg)\n",
    "    return gaussian(0, tg, a, tg / 2, tg / 4)(t) - b\n",
    "    \n",
    "def epsilonY(t, params):\n",
    "    tg = params['tg']\n",
    "    a = calAx(tg)\n",
    "    return dragY1(0, tg, a, tg / 2, tg / 4)(t) / Delta\n",
    "\n",
    "# Set the drive detuning  \n",
    "def delta1(t, params):\n",
    "    tg = params['tg']\n",
    "    lamda = np.sqrt(2)\n",
    "    return - epsilonX(t, {\"tg\": tg}) ** 2 / 2 / Delta"
   ]
  },
  {
   "cell_type": "markdown",
   "metadata": {},
   "source": [
    "## Quanlse realization"
   ]
  },
  {
   "cell_type": "markdown",
   "metadata": {},
   "source": [
    "Quanlse stores the system's information required for simulation and optimization in the Hamiltonian. First of all, we create an empty Hamiltonian by instantiating an object from class `QHamiltonian`. In order to make a comparison to show the advantages of DRAG technique, we create two Hamiltonians: 'ham' will simulate without DRAG and 'hamDrag' with DRAG. "
   ]
  },
  {
   "cell_type": "code",
   "execution_count": null,
   "metadata": {},
   "outputs": [],
   "source": [
    "# Create empty Hamiltonians\n",
    "ham = QHam(subSysNum=1, sysLevel=3, dt=0.2222)\n",
    "hamDrag = QHam(subSysNum=1, sysLevel=3, dt=0.2222)"
   ]
  },
  {
   "cell_type": "markdown",
   "metadata": {},
   "source": [
    "For this particular task, the system Hamiltonian can be expressed in four terms:\n",
    "$$\n",
    "\\hat H_R = \\hat H_{\\rm drift} + \\hat H_{\\rm xctrl} + \\hat H_{\\rm yctrl}+ \\hat H_{\\rm freq} ,\n",
    "$$\n",
    "where $\\hat H_{\\rm drift}= \\alpha_q\\hat a^{\\dagger}\\hat a^{\\dagger}\\hat a \\hat a/2$ represents the anharmonicity of the qubit, which is intrinsic and time-independent. We add the drift terms by calling `addDrift()`. The operator $\\hat a^{\\dagger}a^{\\dagger} \\hat a \\hat a$ is defined as `duff()` in Quanlse, which takes the system's dimension as a parameter."
   ]
  },
  {
   "cell_type": "code",
   "execution_count": null,
   "metadata": {},
   "outputs": [],
   "source": [
    "# Add the anharmonic terms\n",
    "ham.addDrift(duff, onSubSys=0, coef=Delta / 2.0)\n",
    "hamDrag.addDrift(duff, onSubSys=0, coef=Delta / 2.0)"
   ]
  },
  {
   "cell_type": "markdown",
   "metadata": {},
   "source": [
    "Next, the control terms $\\hat H_{\\rm xctrl}=(\\hat a +\\hat a^{\\dagger})/2$, $\\hat H_{\\rm yctrl}=i(\\hat a -\\hat a^{\\dagger})/2$ and $ \\hat H_{\\rm freq}=\\hat a^{\\dagger}\\hat a $ are added by calling the function `addWave()`. Their according operators are also available and can be found in `QOperator`. Here we use the object of class `QJobList`, termed as 'Joblist', to add control wave uniformly. \n",
    "The code is as follows:"
   ]
  },
  {
   "cell_type": "code",
   "execution_count": null,
   "metadata": {},
   "outputs": [],
   "source": [
    "# Gate times\n",
    "t = np.arange(2., 9., 0.5)\n",
    "\n",
    "# Intialize array index\n",
    "jobList = ham.createJobList()\n",
    "jobListDrag = hamDrag.createJobList()\n",
    "for tg in t:\n",
    "    jobWaves = jobList.createJob()\n",
    "    jobWavesDrag = jobListDrag.createJob()\n",
    "    # Add Gaussian Wave of X control on the qubit 0\n",
    "    paraArgs = {\"a\": -0.5 * 2.0 * np.pi}\n",
    "    # Add wave for the job list without DRAG pulses\n",
    "    jobWaves.addWave(driveX, 0, QWaveform(epsilonX, 0, tg, {\"tg\": tg}))\n",
    "    # Add wave for the job list with DRAG pulses\n",
    "    jobWavesDrag.addWave(driveX, 0, QWaveform(epsilonX, 0, tg, {\"tg\": tg}))\n",
    "    jobWavesDrag.addWave(driveY, 0, QWaveform(epsilonY, 0, tg, {\"tg\": tg}))\n",
    "    jobWavesDrag.addWave(driveZ, 0, QWaveform(delta1, 0, tg, {\"tg\": tg}))\n",
    "    # Append this job to the job list\n",
    "    jobList.addJob(jobWaves)\n",
    "    jobListDrag.addJob(jobWavesDrag)"
   ]
  },
  {
   "cell_type": "markdown",
   "metadata": {},
   "source": [
    "For a thorough comparison, we compute gate fidelities within a range of gate times. In fact, the task can be done very efficiently using Quanlse. In particular, `runHamiltonian()` supports batch-job simulation and returns a list of dictionaries with details of the result, and the unitary operator is stored under the key `\"unitary\"`.\n",
    "\n",
    "The simulation may take a long time to process on local devices. However, Quanlse provides a cloud service that could speed up this process significantly. To use Quanlse Cloud Service, the users can get a token from http://quantum-hub.baidu.com and use the functions in `remoteSimulator()` module to submit the job onto Quanlse's server. \n",
    "\n",
    "After the simulation, we assess the performance of the implemented gate using DRAG pulse by calculating the infidelity for various gate time defined as:\n",
    "\n",
    "$$\n",
    "{\\rm infid} =1- \\frac{1}{2}\\left|{\\rm Tr}(\\hat{\\sigma}_x P(U))\\right|.\n",
    "$$\n",
    "\n",
    "Here, the projected evolution $P(U)$ ($U$ is the evolution of the system) in particular describes the evolution projected to the computational subspace consisting of the two lowest energy eigenstates $|0\\rangle$ and $|1\\rangle$; $\\hat{\\sigma}_x$ is the target gate we want to implement. "
   ]
  },
  {
   "cell_type": "code",
   "execution_count": null,
   "metadata": {},
   "outputs": [],
   "source": [
    "# Create the arrays for storing gate infidelities\n",
    "errorX = np.zeros(len(t))\n",
    "errorXDrag = np.zeros(len(t))\n",
    "\n",
    "# Submit the job lists to Quanlse Cloud Service\n",
    "result = runHamiltonian(ham, jobList=jobList)\n",
    "resultDrag = runHamiltonian(hamDrag, jobList=jobListDrag)\n",
    "errorX = []\n",
    "errorXDrag = []\n",
    "\n",
    "for index in range(len(t)):\n",
    "    errorX.append(unitaryInfidelity(np.array([[0, 1], [1, 0]], dtype=complex), result[index][\"unitary\"], 1))\n",
    "    errorXDrag.append(unitaryInfidelity(np.array([[0, 1], [1, 0]], dtype=complex), resultDrag[index][\"unitary\"], 1))"
   ]
  },
  {
   "cell_type": "markdown",
   "metadata": {},
   "source": [
    "Finally, we can analyze and visualize the results using the Matplotlib library."
   ]
  },
  {
   "cell_type": "code",
   "execution_count": null,
   "metadata": {},
   "outputs": [],
   "source": [
    "plt.semilogy(t, errorXDrag, label='With DRAG', marker='.')\n",
    "plt.semilogy(t, errorX, label='Without DRAG', marker='.')\n",
    "\n",
    "plt.xlabel('Gate Time (ns)')\n",
    "plt.ylabel('Infidelity')\n",
    "plt.title('X Gate')\n",
    "plt.legend()\n",
    "plt.show()"
   ]
  },
  {
   "cell_type": "markdown",
   "metadata": {},
   "source": [
    "As demonstrated above, most of the leakage error is mitigated. The blue (DRAG optimized waveform) line illustrates that DRAG reduces the infidelity by orders of magnitude."
   ]
  },
  {
   "cell_type": "markdown",
   "metadata": {},
   "source": [
    "## Summary\n",
    "This tutorial introduces the DRAG technique using Quanlse. After reading this tutorial, the users could follow this link [tutorial-drag.ipynb](https://github.com/baidu/Quanlse/blob/main/Tutorial/EN/tutorial-drag.ipynb) to the GitHub page of this Jupyter Notebook document and run this program for themselves. The users are encouraged to explore other advanced research which are different from this tutorial."
   ]
  },
  {
   "cell_type": "markdown",
   "metadata": {},
   "source": [
    "## References\n",
    "\\[1\\] [Motzoi, Felix, et al. \"Simple pulses for elimination of leakage in weakly nonlinear qubits.\" *Physical review letters* 103.11 (2009): 110501.](https://link.aps.org/doi/10.1103/PhysRevLett.103.110501)\n",
    "\n",
    "\\[2\\] [Krantz, Philip, et al. \"A quantum engineer's guide to superconducting qubits.\" *Applied Physics Reviews* 6.2 (2019): 021318.](https://aip.scitation.org/doi/abs/10.1063/1.5089550)"
   ]
  }
 ],
 "metadata": {
  "interpreter": {
   "hash": "2a31ed61199c5c13a03065ecec963a63da8631d96d1b9e695dac4715cb4eadb9"
  },
  "kernelspec": {
   "display_name": "Python 3 (ipykernel)",
   "language": "python",
   "name": "python3"
  },
  "language_info": {
   "codemirror_mode": {
    "name": "ipython",
    "version": 3
   },
   "file_extension": ".py",
   "mimetype": "text/x-python",
   "name": "python",
   "nbconvert_exporter": "python",
   "pygments_lexer": "ipython3",
   "version": "3.8.12"
  }
 },
 "nbformat": 4,
 "nbformat_minor": 4
}
